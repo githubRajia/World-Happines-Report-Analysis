{
 "cells": [
  {
   "cell_type": "code",
   "execution_count": 1,
   "id": "7d419151",
   "metadata": {},
   "outputs": [],
   "source": [
    "#loading a libraries requied for the analysis\n",
    "\n",
    "import pandas as pd\n",
    "import numpy as np\n",
    "import matplotlib.pyplot as plt\n",
    "import seaborn as sns\n",
    "#import pandas_profiling\n",
    "%matplotlib inline\n",
    "from sklearn.impute import SimpleImputer\n",
    "import seaborn as sns\n",
    "from sklearn.model_selection import train_test_split\n",
    "from sklearn import metrics\n",
    "from sklearn.linear_model import LinearRegression\n",
    "from sklearn.preprocessing import StandardScaler\n",
    "from sklearn.svm import LinearSVR\n",
    "\n",
    "from sklearn.model_selection import GridSearchCV\n",
    "from sklearn.metrics import mean_absolute_error\n",
    "from sklearn.svm import SVR\n",
    "\n",
    "import warnings\n",
    "warnings.filterwarnings('ignore')\n",
    "\n"
   ]
  },
  {
   "cell_type": "markdown",
   "id": "fe6e24f2",
   "metadata": {},
   "source": [
    "# SVR model with all features"
   ]
  },
  {
   "cell_type": "code",
   "execution_count": null,
   "id": "88992364",
   "metadata": {},
   "outputs": [],
   "source": [
    "#loading a data\n",
    "happy=pd.read_csv(\"world-happiness-report.csv\")\n",
    "happy.head()\n",
    "#to get a data upto year 2019\n",
    "happy=happy.loc[happy.year<=2019,:]\n",
    "happy.describe()\n",
    "#to check any null value present or not\n",
    "happy.isnull().sum()\n",
    "\n",
    "x=happy.iloc[:,1:]\n",
    "y=happy.iloc[:,0]\n",
    "#removing a null values with the help of simple imputer\n",
    "imputer = SimpleImputer(missing_values=np.nan, strategy='median') \n",
    "imputer = imputer.fit(x)\n",
    "x= imputer.transform(x)\n",
    "x=pd.DataFrame(x)\n",
    "happy1=x\n",
    "happy1.columns =['year','Life Ladder','Log GDP per capita','Social support','Healthy life expectancy at birth',\n",
    "                 'Freedom to make life choices','Generosity','Perceptions of corruption','Positive affect','Negative affect']\n"
   ]
  },
  {
   "cell_type": "code",
   "execution_count": 14,
   "id": "026da22b",
   "metadata": {
    "scrolled": true
   },
   "outputs": [
    {
     "data": {
      "text/plain": [
       "LinearSVR(C=0.01, epsilon=0.21387755102040817, max_iter=10000)"
      ]
     },
     "execution_count": 14,
     "metadata": {},
     "output_type": "execute_result"
    }
   ],
   "source": [
    "#mean of the life ladder \n",
    "life_ladder_mean=happy['Life Ladder'].mean()\n",
    "\n",
    "#standard deviation of life ladder\n",
    "life_ladder_std=happy['Life Ladder'].std()\n",
    "\n",
    "y = np.array(happy1['Life Ladder']).reshape(-1,1)\n",
    "X=happy1.iloc[:,2:]\n",
    "\n",
    "# Feature Scaling \n",
    "sc_X = StandardScaler() \n",
    "sc_y = StandardScaler() \n",
    "X = sc_X.fit_transform(X) \n",
    "y = sc_y.fit_transform(y)\n",
    "\n",
    "#splitting a data\n",
    "X_train, X_test, y_train, y_test = train_test_split(X, y, test_size=0.20, random_state=101, shuffle = False) \n",
    "\n",
    "#to obtain the value of C and epsilon for the SVR model\n",
    "grid = {\n",
    "    'C': np.linspace(0.01, 10),\n",
    "    'epsilon': np.linspace(0.01, 10)\n",
    "}    \n",
    "svr_gridsearch =  LinearSVR(fit_intercept=True, max_iter=10000)\n",
    "grid_svr = GridSearchCV(svr_gridsearch, grid, scoring='neg_mean_absolute_error', cv=5)\n",
    "grid_svr.fit(X_train, y_train)\n",
    "best_grid_svr_mae = grid_svr.best_estimator_\n",
    "best_grid_svr_mae.fit(X_train, y_train)"
   ]
  },
  {
   "cell_type": "code",
   "execution_count": 3,
   "id": "317544cc",
   "metadata": {},
   "outputs": [
    {
     "name": "stdout",
     "output_type": "stream",
     "text": [
      "Coefficients: \n",
      " [[ 0.32064616  0.24519907  0.17578217  0.07031228  0.06568859 -0.10152517\n",
      "   0.19132898  0.01309587]]\n",
      "MAE: 0.38623908768700344\n",
      "MSE: 0.28679823768048357\n",
      "RMSE: 0.5355354681815981\n",
      "The R^2 score is:  0.7586926408136955\n"
     ]
    }
   ],
   "source": [
    "from sklearn.svm import SVR\n",
    "#applying a SVR model\n",
    "regressor = SVR(kernel=\"linear\",C=0.01, epsilon=0.21387755102040817)\n",
    "regressor.fit(X_train,y_train)\n",
    "print('Coefficients: \\n', regressor.coef_)\n",
    "predictions = regressor.predict(X_test)\n",
    "from sklearn.metrics import accuracy_score\n",
    "#to find the root mean square error to find the model is fit or not and the value of r square\n",
    "print('MAE:', metrics.mean_absolute_error(y_test, predictions))\n",
    "print('MSE:', metrics.mean_squared_error(y_test, predictions))\n",
    "print('RMSE:', np.sqrt(metrics.mean_squared_error(y_test, predictions)))\n",
    "print(\"The R^2 score is: \", metrics.r2_score(y_test,predictions))\n"
   ]
  },
  {
   "cell_type": "markdown",
   "id": "bb53a3a3",
   "metadata": {},
   "source": [
    "# SVR with highly correlated features "
   ]
  },
  {
   "cell_type": "code",
   "execution_count": 4,
   "id": "dad710a1",
   "metadata": {},
   "outputs": [
    {
     "data": {
      "text/plain": [
       "LinearSVR(C=0.01, epsilon=0.21387755102040817, max_iter=10000)"
      ]
     },
     "execution_count": 4,
     "metadata": {},
     "output_type": "execute_result"
    }
   ],
   "source": [
    "#loading a data\n",
    "happy=pd.read_csv(\"world-happiness-report.csv\")\n",
    "happy.head()\n",
    "#to get a data upto year 2019\n",
    "happy=happy.loc[happy.year<=2019,:]\n",
    "happy.describe()\n",
    "#to check any null value present or not\n",
    "happy.isnull().sum()\n",
    "\n",
    "x=happy.iloc[:,1:]\n",
    "y=happy.iloc[:,0]\n",
    "#removing a null values with the help of simple imputer\n",
    "imputer = SimpleImputer(missing_values=np.nan, strategy='median') \n",
    "imputer = imputer.fit(x)\n",
    "x= imputer.transform(x)\n",
    "x=pd.DataFrame(x)\n",
    "happy1=x\n",
    "happy1.columns =['year','Life Ladder','Log GDP per capita','Social support','Healthy life expectancy at birth',\n",
    "                 'Freedom to make life choices','Generosity','Perceptions of corruption','Positive affect','Negative affect']\n",
    "happy1= happy1.drop(columns = ['year'])\n",
    "happy1= happy1.drop(columns = ['Generosity','Negative affect'])\n",
    "happy1.head()\n",
    "\n",
    "y = np.array(happy1['Life Ladder']).reshape(-1,1)\n",
    "X=happy1.iloc[:,1:]\n",
    "# Feature Scaling \n",
    "sc_X = StandardScaler() \n",
    "sc_y = StandardScaler() \n",
    "X = sc_X.fit_transform(X) \n",
    "y = sc_y.fit_transform(y)\n",
    "#splitting a dataset\n",
    "X_train, X_test, y_train, y_test = train_test_split(X, y, test_size=0.20, random_state=101, shuffle = False) \n",
    "\n",
    "#to obtain the value of C and epsilon\n",
    "grid = {\n",
    "    'C': np.linspace(0.01, 10),\n",
    "    'epsilon': np.linspace(0.01, 10)\n",
    "}    \n",
    "svr_gridsearch =  LinearSVR(fit_intercept=True, max_iter=10000)\n",
    "grid_svr = GridSearchCV(svr_gridsearch, grid, scoring='neg_mean_absolute_error', cv=5)\n",
    "grid_svr.fit(X_train, y_train)\n",
    "best_grid_svr_mae = grid_svr.best_estimator_\n",
    "best_grid_svr_mae.fit(X_train, y_train)"
   ]
  },
  {
   "cell_type": "code",
   "execution_count": 5,
   "id": "0c3bb6c4",
   "metadata": {},
   "outputs": [
    {
     "name": "stdout",
     "output_type": "stream",
     "text": [
      "Coefficients: \n",
      " [[ 0.29875962  0.24140693  0.18691676  0.08214482 -0.12172374  0.20265919]]\n",
      "MAE: 0.3847694393645058\n",
      "MSE: 0.279068922151761\n",
      "RMSE: 0.5282697437406016\n",
      "The R^2 score is:  0.7651959608258346\n"
     ]
    }
   ],
   "source": [
    "from sklearn.svm import SVR\n",
    "#applying a SVR model\n",
    "regressor = SVR(kernel=\"linear\",C=0.01, epsilon=0.21387755102040817)\n",
    "regressor.fit(X_train,y_train)\n",
    "print('Coefficients: \\n', regressor.coef_)\n",
    "\n",
    "predictions = regressor.predict(X_test)\n",
    "#regressor.score(y_test,predictions)\n",
    "\n",
    "from sklearn.metrics import accuracy_score\n",
    "#to find the root mean square error to find the model is fit or not.\n",
    "print('MAE:', metrics.mean_absolute_error(y_test, predictions))\n",
    "print('MSE:', metrics.mean_squared_error(y_test, predictions))\n",
    "print('RMSE:', np.sqrt(metrics.mean_squared_error(y_test, predictions)))\n",
    "print(\"The R^2 score is: \", metrics.r2_score(y_test,predictions))\n",
    "#print(\"accuracy score:\",metrics.accuracy_score(y_test,predictions))"
   ]
  },
  {
   "cell_type": "markdown",
   "id": "19ee01c1",
   "metadata": {},
   "source": [
    "# SVR with highly correlated features for a 2020 dataset"
   ]
  },
  {
   "cell_type": "code",
   "execution_count": 7,
   "id": "612c94c5",
   "metadata": {},
   "outputs": [
    {
     "data": {
      "text/plain": [
       "LinearSVR(C=0.6216326530612245, epsilon=0.21387755102040817, max_iter=10000)"
      ]
     },
     "execution_count": 7,
     "metadata": {},
     "output_type": "execute_result"
    }
   ],
   "source": [
    "#loading a data\n",
    "happy=pd.read_csv(\"world-happiness-report.csv\")\n",
    "happy.head()\n",
    "#to get a data upto year 2019\n",
    "happy=happy.loc[happy.year>2019,:]\n",
    "happy.describe()\n",
    "#to check any null value present or not\n",
    "happy.isnull().sum()\n",
    "\n",
    "x=happy.iloc[:,1:]\n",
    "y=happy.iloc[:,0]\n",
    "#removing a null values with the help of simple imputer\n",
    "imputer = SimpleImputer(missing_values=np.nan, strategy='median') \n",
    "imputer = imputer.fit(x)\n",
    "x= imputer.transform(x)\n",
    "\n",
    "x=pd.DataFrame(x)\n",
    "happy1=x\n",
    "happy1.columns =['year','Life Ladder','Log GDP per capita','Social support','Healthy life expectancy at birth',\n",
    "                 'Freedom to make life choices','Generosity','Perceptions of corruption','Positive affect','Negative affect']\n",
    "happy1= happy1.drop(columns = ['year'])\n",
    "happy1= happy1.drop(columns = ['Generosity','Negative affect'])\n",
    "happy1.head()\n",
    "\n",
    "y = np.array(happy1['Life Ladder']).reshape(-1,1)\n",
    "X=happy1.iloc[:,1:]\n",
    "# Feature Scaling \n",
    "sc_X = StandardScaler() \n",
    "sc_y = StandardScaler() \n",
    "X = sc_X.fit_transform(X) \n",
    "y = sc_y.fit_transform(y)\n",
    "#splitting a dataset\n",
    "X_train, X_test, y_train, y_test = train_test_split(X, y, test_size=0.20, random_state=101, shuffle = False) \n",
    "\n",
    "#to obtain the value of C and epsilon\n",
    "grid = {\n",
    "    'C': np.linspace(0.01, 10),\n",
    "    'epsilon': np.linspace(0.01, 10)\n",
    "}    \n",
    "svr_gridsearch =  LinearSVR(fit_intercept=True, max_iter=10000)\n",
    "grid_svr = GridSearchCV(svr_gridsearch, grid, scoring='neg_mean_absolute_error', cv=5)\n",
    "grid_svr.fit(X_train, y_train)\n",
    "best_grid_svr_mae = grid_svr.best_estimator_\n",
    "best_grid_svr_mae.fit(X_train, y_train)"
   ]
  },
  {
   "cell_type": "code",
   "execution_count": 20,
   "id": "cd2ab701",
   "metadata": {},
   "outputs": [
    {
     "name": "stdout",
     "output_type": "stream",
     "text": [
      "   Log GDP per capita  Social support  Healthy life expectancy at birth  \\\n",
      "0            0.280361        0.310744                          0.215691   \n",
      "\n",
      "   Freedom to make life choices  Perceptions of corruption  Positive affect  \n",
      "0                      0.151156                  -0.132989         0.055851  \n"
     ]
    },
    {
     "data": {
      "image/png": "[encoded data removed]",
      "text/plain": [
       "<Figure size 432x288 with 1 Axes>"
      ]
     },
     "metadata": {
      "needs_background": "light"
     },
     "output_type": "display_data"
    },
    {
     "name": "stdout",
     "output_type": "stream",
     "text": [
      "MAE: 0.35211428481461443\n",
      "MSE: 0.22626807133120666\n",
      "RMSE: 0.47567643554332883\n",
      "The R^2 score is:  0.847615860509661\n"
     ]
    }
   ],
   "source": [
    "from sklearn.svm import SVR\n",
    "#applying SVR model\n",
    "regressor = SVR(kernel=\"linear\",C=0.6216326530612245, epsilon=0.21387755102040817)\n",
    "regressor.fit(X_train,y_train)\n",
    "coeffecients = pd.DataFrame( (regressor.coef_),columns =['Log GDP per capita','Social support','Healthy life expectancy at birth',\n",
    "                 'Freedom to make life choices','Perceptions of corruption','Positive affect',])\n",
    "\n",
    "print(coeffecients)\n",
    "#coeffecients.columns = ['Coeffecient']\n",
    "\n",
    "\n",
    "predictions = regressor.predict(X_test)\n",
    "#Plotting of results\n",
    "sns.regplot(y_test, predictions )\n",
    "lw = 2\n",
    "plt.scatter(y_test, predictions ,color=\"darkorange\", label=\"data\")\n",
    "#plt.plot (y_test, predictions, color=\"c\", lw=lw, label=\"Linear Model\")\n",
    "plt.xlabel(\"data\")\n",
    "plt.ylabel(\"target\")\n",
    "plt.title(\"Support Vector Regression\")\n",
    "plt.legend()\n",
    "plt.show()\n",
    "\n",
    "from sklearn.metrics import accuracy_score\n",
    "#to find the root mean square error to find the model is fit or not.\n",
    "print('MAE:', metrics.mean_absolute_error(y_test, predictions))\n",
    "print('MSE:', metrics.mean_squared_error(y_test, predictions))\n",
    "print('RMSE:', np.sqrt(metrics.mean_squared_error(y_test, predictions)))\n",
    "print(\"The R^2 score is: \", metrics.r2_score(y_test,predictions))\n",
    "#print(\"accuracy score:\",metrics.accuracy_score(y_test,predictions))"
   ]
  },
  {
   "cell_type": "markdown",
   "id": "3c9ccfe2",
   "metadata": {},
   "source": [
    "# To see the predicted value for a particular country :"
   ]
  },
  {
   "cell_type": "code",
   "execution_count": 48,
   "id": "0a8dcf88",
   "metadata": {
    "scrolled": true
   },
   "outputs": [],
   "source": [
    "#loading a data\n",
    "happy=pd.read_csv(\"world-happiness-report.csv\")\n",
    "happy.head()\n",
    "happy.describe()\n",
    "#to check any null value present or not\n",
    "happy.isnull().sum()\n",
    "x=happy.iloc[:,2:]\n",
    "b=happy.iloc[:,1]\n",
    "a=happy.iloc[:,0]\n",
    "#removing a null values with the help of simple imputer\n",
    "imputer = SimpleImputer(missing_values=np.nan, strategy='median') \n",
    "imputer = imputer.fit(x)\n",
    "x= imputer.transform(x)\n",
    "x=pd.DataFrame(x)\n",
    "happy1=x\n",
    "happy1.columns =['Life Ladder','Log GDP per capita','Social support','Healthy life expectancy at birth',\n",
    "                 'Freedom to make life choices','Generosity','Perceptions of corruption','Positive affect','Negative affect']\n",
    "#mean of the life ladder \n",
    "life_ladder_mean=happy['Life Ladder'].mean()\n",
    "#standard deviation of life ladder\n",
    "life_ladder_std=happy['Life Ladder'].std()\n",
    "Y= np.array(happy1['Life Ladder']).reshape(-1,1)\n",
    "X=happy1.iloc[:,1:]\n",
    "# Feature Scaling \n",
    "sc_X = StandardScaler() \n",
    "sc_y = StandardScaler() \n",
    "X = sc_X.fit_transform(X) \n",
    "y = sc_y.fit_transform(Y)\n",
    "dataset = pd.DataFrame({'Column1': X[:, 0], 'Column2': X[:, 1],'Column3': X[:, 2],'Column4': X[:, 3],'Column5': X[:, 4],\n",
    "                    'Column6': X[:, 5],'Column7': X[:, 6],'Column8': X[:, 7]})\n",
    "dataset.columns =['Log GDP per capita','Social support','Healthy life expectancy at birth',\n",
    "                  'Freedom to make life choices','Generosity','Perceptions of corruption','Positive affect','Negative affect']\n",
    "dataset['Life Ladder']=y\n",
    "dataset['country']=a\n",
    "dataset['year']=b\n"
   ]
  },
  {
   "cell_type": "code",
   "execution_count": 49,
   "id": "c6540448",
   "metadata": {
    "scrolled": false
   },
   "outputs": [
    {
     "data": {
      "text/html": [
       "<div>\n",
       "<style scoped>\n",
       "    .dataframe tbody tr th:only-of-type {\n",
       "        vertical-align: middle;\n",
       "    }\n",
       "\n",
       "    .dataframe tbody tr th {\n",
       "        vertical-align: top;\n",
       "    }\n",
       "\n",
       "    .dataframe thead th {\n",
       "        text-align: right;\n",
       "    }\n",
       "</style>\n",
       "<table border=\"1\" class=\"dataframe\">\n",
       "  <thead>\n",
       "    <tr style=\"text-align: right;\">\n",
       "      <th></th>\n",
       "      <th>Log GDP per capita</th>\n",
       "      <th>Social support</th>\n",
       "      <th>Healthy life expectancy at birth</th>\n",
       "      <th>Freedom to make life choices</th>\n",
       "      <th>Perceptions of corruption</th>\n",
       "      <th>Positive affect</th>\n",
       "      <th>Life Ladder</th>\n",
       "      <th>country</th>\n",
       "      <th>year</th>\n",
       "    </tr>\n",
       "  </thead>\n",
       "  <tbody>\n",
       "    <tr>\n",
       "      <th>746</th>\n",
       "      <td>-0.583605</td>\n",
       "      <td>-1.657534</td>\n",
       "      <td>-0.339008</td>\n",
       "      <td>1.157534</td>\n",
       "      <td>0.163764</td>\n",
       "      <td>0.393163</td>\n",
       "      <td>-1.113214</td>\n",
       "      <td>India</td>\n",
       "      <td>2020</td>\n",
       "    </tr>\n",
       "  </tbody>\n",
       "</table>\n",
       "</div>"
      ],
      "text/plain": [
       "     Log GDP per capita  Social support  Healthy life expectancy at birth  \\\n",
       "746           -0.583605       -1.657534                         -0.339008   \n",
       "\n",
       "     Freedom to make life choices  Perceptions of corruption  Positive affect  \\\n",
       "746                      1.157534                   0.163764         0.393163   \n",
       "\n",
       "     Life Ladder country  year  \n",
       "746    -1.113214   India  2020  "
      ]
     },
     "execution_count": 49,
     "metadata": {},
     "output_type": "execute_result"
    }
   ],
   "source": [
    "dataset=dataset.loc[dataset.year>2019,:]\n",
    "dataset= dataset.drop(columns = ['Generosity','Negative affect'])\n",
    "dataset=dataset.loc[dataset.country=='India',:]\n",
    "dataset.head()"
   ]
  },
  {
   "cell_type": "code",
   "execution_count": 50,
   "id": "16310621",
   "metadata": {},
   "outputs": [
    {
     "data": {
      "text/plain": [
       "746   -0.576662\n",
       "dtype: float64"
      ]
     },
     "execution_count": 50,
     "metadata": {},
     "output_type": "execute_result"
    }
   ],
   "source": [
    "predict= (dataset['Log GDP per capita']*0.280361)+( dataset['Social support']* 0.310744 )+\n",
    "( dataset['Healthy life expectancy at birth'] * 0.215691)+(dataset['Freedom to make life choices']*0.151156)-\n",
    "(dataset['Perceptions of corruption']*0.132989 ) +(dataset['Positive affect']* 0.055851)\n",
    "\n",
    "predict"
   ]
  },
  {
   "cell_type": "raw",
   "id": "c0243020",
   "metadata": {},
   "source": [
    "When we apply a standardScalar the original value get transformed to the \n",
    "y=(x-mean)/std\n",
    "where,\n",
    "y=transformed value\n",
    "x=original value\n",
    "mean=mean of all values\n",
    "std=standard deviation of all values"
   ]
  },
  {
   "cell_type": "code",
   "execution_count": 51,
   "id": "bbed7f36",
   "metadata": {},
   "outputs": [
    {
     "name": "stdout",
     "output_type": "stream",
     "text": [
      "746    4.224681\n",
      "Name: Life Ladder, dtype: float64\n"
     ]
    }
   ],
   "source": [
    "original=(dataset['Life Ladder']*life_ladder_std)+life_ladder_mean\n",
    "print(original)"
   ]
  },
  {
   "cell_type": "code",
   "execution_count": 47,
   "id": "495d1db9",
   "metadata": {},
   "outputs": [
    {
     "name": "stdout",
     "output_type": "stream",
     "text": [
      "746    4.823318\n",
      "dtype: float64\n"
     ]
    }
   ],
   "source": [
    "predicted=(predict*life_ladder_std)+life_ladder_mean\n",
    "print(predicted)"
   ]
  },
  {
   "cell_type": "code",
   "execution_count": null,
   "id": "f600ca38",
   "metadata": {},
   "outputs": [],
   "source": []
  }
 ],
 "metadata": {
  "kernelspec": {
   "display_name": "Python 3 (ipykernel)",
   "language": "python",
   "name": "python3"
  },
  "language_info": {
   "codemirror_mode": {
    "name": "ipython",
    "version": 3
   },
   "file_extension": ".py",
   "mimetype": "text/x-python",
   "name": "python",
   "nbconvert_exporter": "python",
   "pygments_lexer": "ipython3",
   "version": "3.9.7"
  }
 },
 "nbformat": 4,
 "nbformat_minor": 5
}
